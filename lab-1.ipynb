{
 "cells": [
  {
   "cell_type": "markdown",
   "source": [
    "# NLP - Lab I\n",
    "\n",
    "## About the lab\n",
    "This lab explores some of the concepts seen in class. You will use the Language Toolkit natural (NLTK) for this laboratory.\n",
    "This first lab introduces you to NLTK and takes you through the Library methods for accessing Corpus and working with text.\n",
    "In particular, this laboratory focuses in calculating the word count of a corpus.\n"
   ],
   "metadata": {
    "collapsed": false
   },
   "id": "93aa6ca840601c2b"
  },
  {
   "cell_type": "code",
   "execution_count": 4,
   "outputs": [
    {
     "name": "stdout",
     "output_type": "stream",
     "text": [
      "showing info https://raw.githubusercontent.com/nltk/nltk_data/gh-pages/index.xml\n",
      "showing info https://raw.githubusercontent.com/nltk/nltk_data/gh-pages/index.xml\n"
     ]
    },
    {
     "data": {
      "text/plain": "True"
     },
     "execution_count": 4,
     "metadata": {},
     "output_type": "execute_result"
    }
   ],
   "source": [
    "import nltk\n",
    "\n",
    "nltk.download()"
   ],
   "metadata": {
    "collapsed": false,
    "ExecuteTime": {
     "end_time": "2023-11-12T05:52:57.766307400Z",
     "start_time": "2023-11-11T20:46:58.076843100Z"
    }
   },
   "id": "4cb5c0c15ac2ca8d"
  },
  {
   "cell_type": "code",
   "execution_count": 5,
   "outputs": [
    {
     "data": {
      "text/plain": "['[', 'Moby', 'Dick', 'by', 'Herman']"
     },
     "execution_count": 5,
     "metadata": {},
     "output_type": "execute_result"
    }
   ],
   "source": [
    "from nltk.book import *\n",
    "\n",
    "text1.tokens[0:5]"
   ],
   "metadata": {
    "collapsed": false,
    "ExecuteTime": {
     "end_time": "2023-11-21T02:34:58.699223700Z",
     "start_time": "2023-11-21T02:34:58.685225400Z"
    }
   },
   "id": "ea874f956a6a7215"
  },
  {
   "cell_type": "code",
   "execution_count": 6,
   "outputs": [
    {
     "data": {
      "text/plain": "['Pierre', 'Vinken', ',', '61', 'years']"
     },
     "execution_count": 6,
     "metadata": {},
     "output_type": "execute_result"
    }
   ],
   "source": [
    "text7.tokens[0:5]"
   ],
   "metadata": {
    "collapsed": false,
    "ExecuteTime": {
     "end_time": "2023-11-21T02:35:26.782780100Z",
     "start_time": "2023-11-21T02:35:26.763779300Z"
    }
   },
   "id": "74f6fcf30620696a"
  },
  {
   "cell_type": "code",
   "execution_count": 7,
   "outputs": [
    {
     "name": "stdout",
     "output_type": "stream",
     "text": [
      "text1: Moby Dick by Herman Melville 1851\n",
      "text2: Sense and Sensibility by Jane Austen 1811\n",
      "text3: The Book of Genesis\n",
      "text4: Inaugural Address Corpus\n",
      "text5: Chat Corpus\n",
      "text6: Monty Python and the Holy Grail\n",
      "text7: Wall Street Journal\n",
      "text8: Personals Corpus\n",
      "text9: The Man Who Was Thursday by G . K . Chesterton 1908\n"
     ]
    }
   ],
   "source": [
    "texts()"
   ],
   "metadata": {
    "collapsed": false,
    "ExecuteTime": {
     "end_time": "2023-11-21T02:35:41.020769900Z",
     "start_time": "2023-11-21T02:35:40.995767900Z"
    }
   },
   "id": "61402c6ca9cce038"
  },
  {
   "cell_type": "code",
   "execution_count": 10,
   "outputs": [
    {
     "data": {
      "text/plain": "84"
     },
     "execution_count": 10,
     "metadata": {},
     "output_type": "execute_result"
    }
   ],
   "source": [
    "text1.count(\"Moby\")"
   ],
   "metadata": {
    "collapsed": false,
    "ExecuteTime": {
     "end_time": "2023-11-21T02:36:37.217002400Z",
     "start_time": "2023-11-21T02:36:37.114766Z"
    }
   },
   "id": "9bb094a25553f119"
  },
  {
   "cell_type": "code",
   "execution_count": 33,
   "outputs": [
    {
     "data": {
      "text/plain": "7"
     },
     "execution_count": 33,
     "metadata": {},
     "output_type": "execute_result"
    }
   ],
   "source": [
    "from nltk import word_tokenize\n",
    "\n",
    "mysent = \"the cat sat on the mat.\"\n",
    "mysent_tokens = word_tokenize(mysent)\n",
    "len(mysent_tokens)"
   ],
   "metadata": {
    "collapsed": false,
    "ExecuteTime": {
     "end_time": "2023-11-21T02:44:36.190047400Z",
     "start_time": "2023-11-21T02:44:36.172666400Z"
    }
   },
   "id": "cf1c37e709a1f9c7"
  },
  {
   "cell_type": "code",
   "execution_count": 25,
   "outputs": [
    {
     "data": {
      "text/plain": "<re.Match object; span=(8, 12), match='lang'>"
     },
     "execution_count": 25,
     "metadata": {},
     "output_type": "execute_result"
    }
   ],
   "source": [
    "from nltk import re\n",
    "\n",
    "m = re.search(\"lang\", \"natural language processing\")\n",
    "m"
   ],
   "metadata": {
    "collapsed": false,
    "ExecuteTime": {
     "end_time": "2023-11-21T02:41:43.630211900Z",
     "start_time": "2023-11-21T02:41:43.536212800Z"
    }
   },
   "id": "821639f3f5589024"
  },
  {
   "cell_type": "code",
   "execution_count": 26,
   "outputs": [
    {
     "data": {
      "text/plain": "8"
     },
     "execution_count": 26,
     "metadata": {},
     "output_type": "execute_result"
    }
   ],
   "source": [
    "m.start()"
   ],
   "metadata": {
    "collapsed": false,
    "ExecuteTime": {
     "end_time": "2023-11-21T02:41:46.969888600Z",
     "start_time": "2023-11-21T02:41:46.957889100Z"
    }
   },
   "id": "6dc68e2b75ad2a20"
  },
  {
   "cell_type": "code",
   "execution_count": 27,
   "outputs": [
    {
     "data": {
      "text/plain": "12"
     },
     "execution_count": 27,
     "metadata": {},
     "output_type": "execute_result"
    }
   ],
   "source": [
    "m.end()"
   ],
   "metadata": {
    "collapsed": false,
    "ExecuteTime": {
     "end_time": "2023-11-21T02:41:54.253546400Z",
     "start_time": "2023-11-21T02:41:54.209547300Z"
    }
   },
   "id": "8b1dc84ec4dc68fa"
  },
  {
   "cell_type": "code",
   "execution_count": 28,
   "outputs": [
    {
     "data": {
      "text/plain": "<re.Match object; span=(17, 23), match='proces'>"
     },
     "execution_count": 28,
     "metadata": {},
     "output_type": "execute_result"
    }
   ],
   "source": [
    "n = re.search(\"proces\", \"natural language processing\")\n",
    "n"
   ],
   "metadata": {
    "collapsed": false,
    "ExecuteTime": {
     "end_time": "2023-11-21T02:42:32.317422700Z",
     "start_time": "2023-11-21T02:42:32.227424600Z"
    }
   },
   "id": "f6a75171c1fd3154"
  },
  {
   "cell_type": "code",
   "execution_count": 34,
   "outputs": [],
   "source": [
    "my_tokens_nopunct = [w for w in word_tokenize(mysent) if re.search(\"\\w\", w)]"
   ],
   "metadata": {
    "collapsed": false,
    "ExecuteTime": {
     "end_time": "2023-11-21T02:44:40.643012200Z",
     "start_time": "2023-11-21T02:44:40.632012300Z"
    }
   },
   "id": "c152b29e6ec3da42"
  },
  {
   "cell_type": "code",
   "execution_count": 35,
   "outputs": [
    {
     "data": {
      "text/plain": "6"
     },
     "execution_count": 35,
     "metadata": {},
     "output_type": "execute_result"
    }
   ],
   "source": [
    "len(my_tokens_nopunct)"
   ],
   "metadata": {
    "collapsed": false,
    "ExecuteTime": {
     "end_time": "2023-11-21T02:44:42.096008400Z",
     "start_time": "2023-11-21T02:44:42.087008700Z"
    }
   },
   "id": "1960acff92b6223e"
  },
  {
   "cell_type": "code",
   "execution_count": 36,
   "outputs": [
    {
     "data": {
      "text/plain": "{'cat', 'mat', 'on', 'sat', 'the'}"
     },
     "execution_count": 36,
     "metadata": {},
     "output_type": "execute_result"
    }
   ],
   "source": [
    "set(my_tokens_nopunct)"
   ],
   "metadata": {
    "collapsed": false,
    "ExecuteTime": {
     "end_time": "2023-11-21T02:44:43.788004300Z",
     "start_time": "2023-11-21T02:44:43.775004400Z"
    }
   },
   "id": "2f29cf9ab98bf5c6"
  },
  {
   "cell_type": "code",
   "execution_count": 43,
   "outputs": [],
   "source": [
    "moby_dick_tokens = text1.tokens"
   ],
   "metadata": {
    "collapsed": false,
    "ExecuteTime": {
     "end_time": "2023-11-21T02:56:05.763023400Z",
     "start_time": "2023-11-21T02:56:05.751022300Z"
    }
   },
   "id": "e22fc5d776c7c1eb"
  },
  {
   "cell_type": "code",
   "execution_count": 38,
   "outputs": [
    {
     "data": {
      "text/plain": "['moby', 'dick', 'by', 'herman', 'melville']"
     },
     "execution_count": 38,
     "metadata": {},
     "output_type": "execute_result"
    }
   ],
   "source": [
    "moby_dick_tokens_nopunct = [w.lower() for w in moby_dick_tokens if re.search(\"\\w\", w)]\n",
    "moby_dick_tokens_nopunct[0:5]"
   ],
   "metadata": {
    "collapsed": false,
    "ExecuteTime": {
     "end_time": "2023-11-21T02:46:06.393936500Z",
     "start_time": "2023-11-21T02:46:06.250935Z"
    }
   },
   "id": "f1373b5a236cef2"
  },
  {
   "cell_type": "markdown",
   "source": [
    "## Knowledge Verification\n",
    "\n",
    "> Remove punctuations and transform into lowercase before any calculation\n",
    "\n",
    "1. How many tokens are the on Moby Dick\n",
    "2. What's `types` count on Moby Dick.\n"
   ],
   "metadata": {
    "collapsed": false
   },
   "id": "4317d05bdf462dd1"
  },
  {
   "cell_type": "code",
   "execution_count": 44,
   "outputs": [
    {
     "name": "stdout",
     "output_type": "stream",
     "text": [
      "1. There are 218621 'tokens' in Moby Dick.\n",
      "2. There are 17140 'types' in Moby Dick.\n"
     ]
    }
   ],
   "source": [
    "md_tokens = [w.lower() for w in moby_dick_tokens if re.search(\"\\w\", w)]\n",
    "print(f\"1. There are {len(md_tokens)} 'tokens' in Moby Dick.\")\n",
    "print(f\"2. There are {len(set(md_tokens))} 'types' in Moby Dick.\")"
   ],
   "metadata": {
    "collapsed": false,
    "ExecuteTime": {
     "end_time": "2023-11-21T02:58:21.229403800Z",
     "start_time": "2023-11-21T02:58:21.104403900Z"
    }
   },
   "id": "a89a220c8d7187bc"
  },
  {
   "cell_type": "code",
   "execution_count": 46,
   "outputs": [
    {
     "name": "stdout",
     "output_type": "stream",
     "text": [
      "3. Moby Dick type-token ratio is 0.07840051962071347.\n"
     ]
    }
   ],
   "source": [
    "md_type_token_ratio = len(set(md_tokens)) / len(md_tokens)\n",
    "print(f\"3. Moby Dick type-token ratio is {md_type_token_ratio}.\")"
   ],
   "metadata": {
    "collapsed": false,
    "ExecuteTime": {
     "end_time": "2023-11-21T03:00:45.285949700Z",
     "start_time": "2023-11-21T03:00:45.268953100Z"
    }
   },
   "id": "bfd1d605344210e"
  },
  {
   "cell_type": "code",
   "execution_count": 47,
   "outputs": [
    {
     "name": "stdout",
     "output_type": "stream",
     "text": [
      "4. WSJ type-token ratio is 0.129748424801388.\n"
     ]
    }
   ],
   "source": [
    "wsj_tokens = [w.lower() for w in text7.tokens if re.search(\"\\w\", w)]\n",
    "wsj_type_token_ratio = len(set(wsj_tokens)) / len(wsj_tokens)\n",
    "print(f\"4. WSJ type-token ratio is {wsj_type_token_ratio}.\")"
   ],
   "metadata": {
    "collapsed": false,
    "ExecuteTime": {
     "end_time": "2023-11-21T03:02:49.425370Z",
     "start_time": "2023-11-21T03:02:49.352371900Z"
    }
   },
   "id": "11c2a6f84bdf389c"
  },
  {
   "cell_type": "code",
   "execution_count": 48,
   "outputs": [
    {
     "name": "stdout",
     "output_type": "stream",
     "text": [
      "5. WSJ has higher lexical diversity\n"
     ]
    }
   ],
   "source": [
    "message = \"5. \"\n",
    "if wsj_type_token_ratio > md_type_token_ratio:\n",
    "    message = message + \"WSJ has higher lexical diversity\"\n",
    "elif md_type_token_ratio > wsj_type_token_ratio:\n",
    "    message = message + \"Moby Dick has higher lexical diversity\"\n",
    "else:\n",
    "    message = message + \"WSJ and Moby dicker have equal lexical diversity\"\n",
    "\n",
    "print(message)"
   ],
   "metadata": {
    "collapsed": false,
    "ExecuteTime": {
     "end_time": "2023-11-21T03:16:25.674986100Z",
     "start_time": "2023-11-21T03:16:25.657987200Z"
    }
   },
   "id": "8c433155c5ef3c38"
  },
  {
   "cell_type": "code",
   "execution_count": 53,
   "outputs": [
    {
     "name": "stdout",
     "output_type": "stream",
     "text": [
      "6. WSJ may have less tokens, and therefore have better chances of using unique tokens\n"
     ]
    }
   ],
   "source": [
    "print(f\"6. WSJ may have less tokens, and therefore have better chances of using unique tokens\")"
   ],
   "metadata": {
    "collapsed": false,
    "ExecuteTime": {
     "end_time": "2023-11-21T03:18:50.252772800Z",
     "start_time": "2023-11-21T03:18:50.241773900Z"
    }
   },
   "id": "f862679bccf1410d"
  },
  {
   "cell_type": "code",
   "execution_count": 57,
   "outputs": [
    {
     "name": "stdout",
     "output_type": "stream",
     "text": [
      "7. P_MD ('whale') = 0.005607878474620462\n"
     ]
    }
   ],
   "source": [
    "f_dist = FreqDist(md_tokens)\n",
    "md_word = 'whale'\n",
    "print(f\"7. P_MD ('{md_word}') = {f_dist[md_word] / len(md_tokens)}\")"
   ],
   "metadata": {
    "collapsed": false,
    "ExecuteTime": {
     "end_time": "2023-11-21T03:26:02.385563300Z",
     "start_time": "2023-11-21T03:26:02.370028500Z"
    }
   },
   "id": "44a5d08a0e5bd2f1"
  },
  {
   "cell_type": "code",
   "execution_count": 56,
   "outputs": [
    {
     "name": "stdout",
     "output_type": "stream",
     "text": [
      "8. P_WSJ ('whale') = 0.0\n"
     ]
    }
   ],
   "source": [
    "f_dist_wd = FreqDist(wsj_tokens)\n",
    "wsj_word = 'whale'\n",
    "print(f\"8. P_WSJ ('{wsj_word}') = {f_dist_wd[wsj_word] / len(wsj_tokens)}\")"
   ],
   "metadata": {
    "collapsed": false,
    "ExecuteTime": {
     "end_time": "2023-11-21T03:26:00.753692300Z",
     "start_time": "2023-11-21T03:26:00.717965300Z"
    }
   },
   "id": "f85eeb113bb2526d"
  }
 ],
 "metadata": {
  "kernelspec": {
   "display_name": "Python 3",
   "language": "python",
   "name": "python3"
  },
  "language_info": {
   "codemirror_mode": {
    "name": "ipython",
    "version": 2
   },
   "file_extension": ".py",
   "mimetype": "text/x-python",
   "name": "python",
   "nbconvert_exporter": "python",
   "pygments_lexer": "ipython2",
   "version": "2.7.6"
  }
 },
 "nbformat": 4,
 "nbformat_minor": 5
}
